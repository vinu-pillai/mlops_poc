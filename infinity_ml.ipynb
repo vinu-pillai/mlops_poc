{
  "nbformat": 4,
  "nbformat_minor": 0,
  "metadata": {
    "colab": {
      "provenance": [],
      "authorship_tag": "ABX9TyNH+3FasPn57ffOUnz2PwCp"
    },
    "kernelspec": {
      "name": "python3",
      "display_name": "Python 3"
    },
    "language_info": {
      "name": "python"
    }
  },
  "cells": [
    {
      "cell_type": "code",
      "source": [
        "    pip install onnx"
      ],
      "metadata": {
        "colab": {
          "base_uri": "https://localhost:8080/"
        },
        "id": "x7BTt6yD126h",
        "outputId": "65f1d9c2-7e86-4e7d-d0f9-d1c25c456e62"
      },
      "execution_count": null,
      "outputs": [
        {
          "output_type": "stream",
          "name": "stdout",
          "text": [
            "Collecting onnx\n",
            "  Downloading onnx-1.19.0-cp312-cp312-manylinux2014_x86_64.manylinux_2_17_x86_64.whl.metadata (7.0 kB)\n",
            "Requirement already satisfied: numpy>=1.22 in /usr/local/lib/python3.12/dist-packages (from onnx) (2.0.2)\n",
            "Requirement already satisfied: protobuf>=4.25.1 in /usr/local/lib/python3.12/dist-packages (from onnx) (5.29.5)\n",
            "Requirement already satisfied: typing_extensions>=4.7.1 in /usr/local/lib/python3.12/dist-packages (from onnx) (4.15.0)\n",
            "Requirement already satisfied: ml_dtypes in /usr/local/lib/python3.12/dist-packages (from onnx) (0.5.3)\n",
            "Downloading onnx-1.19.0-cp312-cp312-manylinux2014_x86_64.manylinux_2_17_x86_64.whl (18.2 MB)\n",
            "\u001b[2K   \u001b[90m━━━━━━━━━━━━━━━━━━━━━━━━━━━━━━━━━━━━━━━━\u001b[0m \u001b[32m18.2/18.2 MB\u001b[0m \u001b[31m92.6 MB/s\u001b[0m eta \u001b[36m0:00:00\u001b[0m\n",
            "\u001b[?25hInstalling collected packages: onnx\n",
            "Successfully installed onnx-1.19.0\n"
          ]
        }
      ]
    },
    {
      "cell_type": "code",
      "source": [
        "pip install onnxruntime"
      ],
      "metadata": {
        "colab": {
          "base_uri": "https://localhost:8080/"
        },
        "id": "U3ZZq-yG2KFg",
        "outputId": "52a3ac04-abc8-4e52-f68d-dbf506ebb677"
      },
      "execution_count": null,
      "outputs": [
        {
          "output_type": "stream",
          "name": "stdout",
          "text": [
            "Collecting onnxruntime\n",
            "  Downloading onnxruntime-1.22.1-cp312-cp312-manylinux_2_27_x86_64.manylinux_2_28_x86_64.whl.metadata (4.9 kB)\n",
            "Collecting coloredlogs (from onnxruntime)\n",
            "  Downloading coloredlogs-15.0.1-py2.py3-none-any.whl.metadata (12 kB)\n",
            "Requirement already satisfied: flatbuffers in /usr/local/lib/python3.12/dist-packages (from onnxruntime) (25.2.10)\n",
            "Requirement already satisfied: numpy>=1.21.6 in /usr/local/lib/python3.12/dist-packages (from onnxruntime) (2.0.2)\n",
            "Requirement already satisfied: packaging in /usr/local/lib/python3.12/dist-packages (from onnxruntime) (25.0)\n",
            "Requirement already satisfied: protobuf in /usr/local/lib/python3.12/dist-packages (from onnxruntime) (5.29.5)\n",
            "Requirement already satisfied: sympy in /usr/local/lib/python3.12/dist-packages (from onnxruntime) (1.13.3)\n",
            "Collecting humanfriendly>=9.1 (from coloredlogs->onnxruntime)\n",
            "  Downloading humanfriendly-10.0-py2.py3-none-any.whl.metadata (9.2 kB)\n",
            "Requirement already satisfied: mpmath<1.4,>=1.1.0 in /usr/local/lib/python3.12/dist-packages (from sympy->onnxruntime) (1.3.0)\n",
            "Downloading onnxruntime-1.22.1-cp312-cp312-manylinux_2_27_x86_64.manylinux_2_28_x86_64.whl (16.5 MB)\n",
            "\u001b[2K   \u001b[90m━━━━━━━━━━━━━━━━━━━━━━━━━━━━━━━━━━━━━━━━\u001b[0m \u001b[32m16.5/16.5 MB\u001b[0m \u001b[31m96.4 MB/s\u001b[0m eta \u001b[36m0:00:00\u001b[0m\n",
            "\u001b[?25hDownloading coloredlogs-15.0.1-py2.py3-none-any.whl (46 kB)\n",
            "\u001b[2K   \u001b[90m━━━━━━━━━━━━━━━━━━━━━━━━━━━━━━━━━━━━━━━━\u001b[0m \u001b[32m46.0/46.0 kB\u001b[0m \u001b[31m3.3 MB/s\u001b[0m eta \u001b[36m0:00:00\u001b[0m\n",
            "\u001b[?25hDownloading humanfriendly-10.0-py2.py3-none-any.whl (86 kB)\n",
            "\u001b[2K   \u001b[90m━━━━━━━━━━━━━━━━━━━━━━━━━━━━━━━━━━━━━━━━\u001b[0m \u001b[32m86.8/86.8 kB\u001b[0m \u001b[31m7.2 MB/s\u001b[0m eta \u001b[36m0:00:00\u001b[0m\n",
            "\u001b[?25hInstalling collected packages: humanfriendly, coloredlogs, onnxruntime\n",
            "Successfully installed coloredlogs-15.0.1 humanfriendly-10.0 onnxruntime-1.22.1\n"
          ]
        }
      ]
    },
    {
      "cell_type": "code",
      "source": [
        "import onnx, onnxruntime as ort\n",
        "print(\"onnx:\", onnx.__version__, \"onnxruntime:\", ort.__version__)\n"
      ],
      "metadata": {
        "colab": {
          "base_uri": "https://localhost:8080/"
        },
        "id": "fdObf7nQ5ZWf",
        "outputId": "46bec17c-1f38-44ce-f5b2-fb75d48daf21"
      },
      "execution_count": null,
      "outputs": [
        {
          "output_type": "stream",
          "name": "stdout",
          "text": [
            "onnx: 1.19.0 onnxruntime: 1.22.1\n"
          ]
        }
      ]
    },
    {
      "cell_type": "code",
      "source": [
        "\"\"\"\n",
        "Linear Regression -> ONNX (no scikit-learn)\n",
        "\n",
        "- Reads parameters from params.json: { \"intercept\": float, \"coefficient\": [..], \"covariance\": [[..], ..] }\n",
        "- Builds an ONNX model: y = X @ W + b\n",
        "- Stores covariance in ONNX metadata\n",
        "- Generates synthetic test data and validates with onnxruntime\n",
        "\n",
        "Required: pip install onnx onnxruntime numpy\n",
        "(Optional): pip install pandas if you later want to load real CSV/XLS data\n",
        "\"\"\"\n",
        "\n",
        "import os, json\n",
        "import numpy as np\n",
        "import onnx\n",
        "from onnx import helper, TensorProto, numpy_helper\n",
        "import onnxruntime as ort\n",
        "\n",
        "\n",
        "PARAMS_PATH = \"params.json\"\n",
        "ONNX_PATH = \"linear_regression.onnx\"\n",
        "OPSET = 11          # was 13; MatMul/Add are fine in 11\n",
        "IR_VERSION = 10      # <= your runtime’s max (10). 7 is very safe.\n",
        "\n",
        "\n",
        "\n",
        "def ensure_dummy_params(path: str):\n",
        "    \"\"\"Create a dummy params.json if not present.\"\"\"\n",
        "    if os.path.exists(path):\n",
        "        return\n",
        "    params = {\n",
        "        \"intercept\": 1.5,\n",
        "        \"coefficient\": [2.0, -3.0, 0.5],  # D = 3 features\n",
        "        \"covariance\": [\n",
        "            [0.04, 0.00, 0.00],\n",
        "            [0.00, 0.09, 0.00],\n",
        "            [0.00, 0.00, 0.01],\n",
        "        ]\n",
        "    }\n",
        "    with open(path, \"w\") as f:\n",
        "        json.dump(params, f, indent=2)\n",
        "\n",
        "\n",
        "def load_params(path: str):\n",
        "    with open(path, \"r\") as f:\n",
        "        p = json.load(f)\n",
        "    intercept = float(p[\"intercept\"])\n",
        "    coef = np.asarray(p[\"coefficient\"], dtype=np.float32)  # shape (D,)\n",
        "    cov = np.asarray(p[\"covariance\"], dtype=np.float32)    # shape (D, D)\n",
        "    assert cov.shape == (coef.shape[0], coef.shape[0]), \"Covariance must be DxD for D coefficients.\"\n",
        "    return intercept, coef, cov\n",
        "\n",
        "\n",
        "def build_onnx_linear(onnx_path: str, intercept: float, coef: np.ndarray, covariance: np.ndarray):\n",
        "    \"\"\"\n",
        "    Create an ONNX graph implementing y = X @ W + b\n",
        "    X: [N, D] float\n",
        "    W: [D, 1] float\n",
        "    b: [1]     float\n",
        "    y: [N, 1]  float\n",
        "    \"\"\"\n",
        "    D = coef.shape[0]\n",
        "\n",
        "    # IO value infos\n",
        "    X = helper.make_tensor_value_info('X', TensorProto.FLOAT, ['N', D])\n",
        "    Y = helper.make_tensor_value_info('y', TensorProto.FLOAT, ['N', 1])\n",
        "\n",
        "    # Initializers (weights and bias)\n",
        "    W_np = coef.reshape(D, 1).astype(np.float32)         # [D,1]\n",
        "    b_np = np.array([intercept], dtype=np.float32)       # [1]\n",
        "\n",
        "    W_init = numpy_helper.from_array(W_np, name=\"W\")\n",
        "    b_init = numpy_helper.from_array(b_np, name=\"b\")\n",
        "\n",
        "    # Nodes: MatMul(X, W) -> Z ; Add(Z, b) -> y\n",
        "    matmul = helper.make_node(\"MatMul\", [\"X\", \"W\"], [\"Z\"], name=\"MatMul_XW\")\n",
        "    add    = helper.make_node(\"Add\",    [\"Z\", \"b\"], [\"y\"], name=\"Add_Bias\")\n",
        "\n",
        "    graph = helper.make_graph(\n",
        "        nodes=[matmul, add],\n",
        "        name=\"LinearRegression\",\n",
        "        inputs=[X],\n",
        "        outputs=[Y],\n",
        "        initializer=[W_init, b_init]\n",
        "    )\n",
        "\n",
        "    model = helper.make_model(\n",
        "    graph,\n",
        "    opset_imports=[helper.make_operatorsetid(\"\", OPSET)],\n",
        "    producer_name=\"custom-linear-no-sklearn\",\n",
        "    ir_version=IR_VERSION,     # <-- important\n",
        "   )\n",
        "\n",
        "\n",
        "    # Attach covariance matrix as JSON in metadata (not used for computation)\n",
        "    meta = model.metadata_props.add()\n",
        "    meta.key = \"covariance_json\"\n",
        "    meta.value = json.dumps(covariance.tolist())\n",
        "\n",
        "    # (Optional) also drop covariance as a non-consumed initializer tensor for provenance\n",
        "    cov_init = numpy_helper.from_array(covariance.astype(np.float32), name=\"covariance_matrix\")\n",
        "    model.graph.initializer.append(cov_init)\n",
        "\n",
        "    # Validate & save\n",
        "    onnx.checker.check_model(model)\n",
        "    onnx.save(model, onnx_path)\n",
        "    return onnx_path\n",
        "\n",
        "\n",
        "def generate_synthetic_data(coef: np.ndarray, intercept: float, n: int = 200, noise_std: float = 0.3, seed: int = 42):\n",
        "    rng = np.random.default_rng(seed)\n",
        "    D = coef.shape[0]\n",
        "    X = rng.normal(size=(n, D)).astype(np.float32)\n",
        "    y = (X @ coef.astype(np.float32)) + float(intercept) + rng.normal(scale=noise_std, size=n).astype(np.float32)\n",
        "    return X, y\n",
        "\n",
        "\n",
        "def run_onnx_inference(onnx_path: str, X: np.ndarray) -> np.ndarray:\n",
        "    sess = ort.InferenceSession(onnx_path, providers=[\"CPUExecutionProvider\"])\n",
        "    input_name = sess.get_inputs()[0].name\n",
        "    (y_pred,) = sess.run(None, {input_name: X})  # shape [N,1]\n",
        "    return y_pred.reshape(-1)\n",
        "\n",
        "\n",
        "def rmse(y_true: np.ndarray, y_pred: np.ndarray) -> float:\n",
        "    return float(np.sqrt(np.mean((y_true - y_pred) ** 2)))\n",
        "\n",
        "\n",
        "def mae(y_true: np.ndarray, y_pred: np.ndarray) -> float:\n",
        "    return float(np.mean(np.abs(y_true - y_pred)))\n",
        "\n",
        "\n",
        "def r2_score(y_true: np.ndarray, y_pred: np.ndarray) -> float:\n",
        "    ss_res = float(np.sum((y_true - y_pred) ** 2))\n",
        "    ss_tot = float(np.sum((y_true - np.mean(y_true)) ** 2))\n",
        "    return 1.0 - ss_res / ss_tot if ss_tot > 0 else 0.0\n"
      ],
      "metadata": {
        "id": "fd9gQIxa2aDB"
      },
      "execution_count": null,
      "outputs": []
    },
    {
      "cell_type": "code",
      "source": [
        "PARAMS_PATH = \"params.json\"\n",
        "ONNX_PATH = \"linear_regression.onnx\"\n",
        "\n",
        "ensure_dummy_params(PARAMS_PATH)\n",
        "intercept, coef, covariance = load_params(PARAMS_PATH)\n",
        "print(\"intercept:\", intercept)\n",
        "print(\"coef shape:\", coef.shape, \"coef:\", coef)\n",
        "print(\"cov shape:\", covariance.shape)\n"
      ],
      "metadata": {
        "colab": {
          "base_uri": "https://localhost:8080/"
        },
        "id": "AWUnR_RO3b46",
        "outputId": "24d0063a-24f1-47f6-c068-f901b93716ab"
      },
      "execution_count": null,
      "outputs": [
        {
          "output_type": "stream",
          "name": "stdout",
          "text": [
            "intercept: 1.5\n",
            "coef shape: (3,) coef: [ 2.  -3.   0.5]\n",
            "cov shape: (3, 3)\n"
          ]
        }
      ]
    },
    {
      "cell_type": "code",
      "source": [
        "onnx_file = build_onnx_linear(ONNX_PATH, intercept, coef, covariance)\n",
        "print(\"Saved:\", onnx_file)\n",
        "\n",
        "m = onnx.load(onnx_file)\n",
        "print({kv.key: kv.value[:120] + \"...\" for kv in m.metadata_props})  # peek metadata\n"
      ],
      "metadata": {
        "colab": {
          "base_uri": "https://localhost:8080/"
        },
        "id": "VcUYN9oh36u_",
        "outputId": "62adcf03-6a3c-4f6a-8d32-92c3e876f224"
      },
      "execution_count": null,
      "outputs": [
        {
          "output_type": "stream",
          "name": "stdout",
          "text": [
            "Saved: linear_regression.onnx\n",
            "{'covariance_json': '[[0.03999999910593033, 0.0, 0.0], [0.0, 0.09000000357627869, 0.0], [0.0, 0.0, 0.009999999776482582]]...'}\n"
          ]
        }
      ]
    },
    {
      "cell_type": "code",
      "source": [
        "X_test, y_true = generate_synthetic_data(coef, intercept, n=500, noise_std=0.25, seed=123)\n",
        "X_test.shape, y_true.shape\n"
      ],
      "metadata": {
        "colab": {
          "base_uri": "https://localhost:8080/"
        },
        "id": "5En7z6YZ4CXf",
        "outputId": "6ef517a8-3e73-402a-8c31-9df1988660af"
      },
      "execution_count": null,
      "outputs": [
        {
          "output_type": "execute_result",
          "data": {
            "text/plain": [
              "((500, 3), (500,))"
            ]
          },
          "metadata": {},
          "execution_count": 12
        }
      ]
    },
    {
      "cell_type": "code",
      "source": [
        "y_pred = run_onnx_inference(onnx_file, X_test)\n",
        "print(\"y_pred shape:\", y_pred.shape)\n",
        "print(\"first 5 preds:\", y_pred[:5])\n"
      ],
      "metadata": {
        "colab": {
          "base_uri": "https://localhost:8080/"
        },
        "id": "som8RtoA4Ifg",
        "outputId": "c40fa144-d9fd-4dd7-8f59-472f0d6d2cc6"
      },
      "execution_count": null,
      "outputs": [
        {
          "output_type": "stream",
          "name": "stdout",
          "text": [
            "y_pred shape: (500,)\n",
            "first 5 preds: [ 1.2690798  -0.58419204 -1.5570817  -0.19924545  6.3977356 ]\n"
          ]
        }
      ]
    },
    {
      "cell_type": "code",
      "source": [
        "print(\"RMSE:\", rmse(y_true, y_pred))\n",
        "print(\"MAE :\", mae(y_true, y_pred))\n",
        "print(\"R^2 :\", r2_score(y_true, y_pred))\n"
      ],
      "metadata": {
        "colab": {
          "base_uri": "https://localhost:8080/"
        },
        "id": "kPrtMHKw6OIA",
        "outputId": "4decd6b8-59e3-438a-f25f-747986ae6027"
      },
      "execution_count": null,
      "outputs": [
        {
          "output_type": "stream",
          "name": "stdout",
          "text": [
            "RMSE: 0.2563903033733368\n",
            "MAE : 0.20465616881847382\n",
            "R^2 : 0.9947278904788079\n"
          ]
        }
      ]
    },
    {
      "cell_type": "code",
      "source": [
        "y_np = (X_test @ coef.astype(np.float32)) + float(intercept)\n",
        "print(\"Max |NumPy - ONNX|:\", np.max(np.abs(y_np - y_pred)))\n"
      ],
      "metadata": {
        "colab": {
          "base_uri": "https://localhost:8080/"
        },
        "id": "TMACxeyI6VWQ",
        "outputId": "df6d9969-930a-4dde-847b-9a84d09ceea1"
      },
      "execution_count": null,
      "outputs": [
        {
          "output_type": "stream",
          "name": "stdout",
          "text": [
            "Max |NumPy - ONNX|: 9.536743e-07\n"
          ]
        }
      ]
    },
    {
      "cell_type": "code",
      "source": [
        "# Example: change intercept and one coefficient, then rebuild & re-eval\n",
        "intercept += 0.2\n",
        "coef[0] += 0.1\n",
        "build_onnx_linear(ONNX_PATH, intercept, coef, covariance)\n",
        "y_pred = run_onnx_inference(ONNX_PATH, X_test)\n",
        "print(\"R^2 (after tweak):\", r2_score(y_true, y_pred))\n"
      ],
      "metadata": {
        "colab": {
          "base_uri": "https://localhost:8080/"
        },
        "id": "9nmLtG6j6c1v",
        "outputId": "fcf7c81e-6458-456c-89b3-7d7950c6670b"
      },
      "execution_count": null,
      "outputs": [
        {
          "output_type": "stream",
          "name": "stdout",
          "text": [
            "R^2 (after tweak): 0.9907701856596979\n"
          ]
        }
      ]
    }
  ]
}